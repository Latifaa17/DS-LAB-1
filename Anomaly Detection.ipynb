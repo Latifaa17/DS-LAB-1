{
 "cells": [
  {
   "cell_type": "code",
   "execution_count": 1,
   "metadata": {},
   "outputs": [],
   "source": [
    "import warnings\n",
    "warnings.filterwarnings('ignore')\n"
   ]
  },
  {
   "cell_type": "code",
   "execution_count": 2,
   "metadata": {},
   "outputs": [
    {
     "data": {
      "text/plain": [
       "<torch._C.Generator at 0x211f0ab95d0>"
      ]
     },
     "execution_count": 2,
     "metadata": {},
     "output_type": "execute_result"
    }
   ],
   "source": [
    "import torch\n",
    "\n",
    "import copy\n",
    "import numpy as np\n",
    "import pandas as pd\n",
    "import seaborn as sns\n",
    "from pylab import rcParams\n",
    "import matplotlib.pyplot as plt\n",
    "from matplotlib import rc\n",
    "from sklearn.model_selection import train_test_split\n",
    "from sklearn.preprocessing import LabelEncoder\n",
    "\n",
    "from torch import nn, optim\n",
    "\n",
    "import torch.nn.functional as F\n",
    "from tqdm import tqdm\n",
    "\n",
    "from tensorflow import keras \n",
    "from tensorflow.keras.models import Sequential\n",
    "from tensorflow.keras import layers \n",
    "from tensorflow.keras import optimizers \n",
    "from tensorflow.keras import backend as K\n",
    "from sklearn import metrics\n",
    "\n",
    "\n",
    "\n",
    "%matplotlib inline\n",
    "%config InlineBackend.figure_format='retina'\n",
    "\n",
    "sns.set(style='whitegrid', palette='muted', font_scale=1.2)\n",
    "\n",
    "HAPPY_COLORS_PALETTE = [\"#01BEFE\", \"#FFDD00\", \"#FF7D00\", \"#FF006D\", \"#ADFF02\", \"#8F00FF\"]\n",
    "\n",
    "sns.set_palette(sns.color_palette(HAPPY_COLORS_PALETTE))\n",
    "\n",
    "rcParams['figure.figsize'] = 12, 8\n",
    "\n",
    "RANDOM_SEED = 42\n",
    "np.random.seed(RANDOM_SEED)\n",
    "torch.manual_seed(RANDOM_SEED)"
   ]
  },
  {
   "cell_type": "code",
   "execution_count": 3,
   "metadata": {},
   "outputs": [
    {
     "data": {
      "text/html": [
       "<div>\n",
       "<style scoped>\n",
       "    .dataframe tbody tr th:only-of-type {\n",
       "        vertical-align: middle;\n",
       "    }\n",
       "\n",
       "    .dataframe tbody tr th {\n",
       "        vertical-align: top;\n",
       "    }\n",
       "\n",
       "    .dataframe thead th {\n",
       "        text-align: right;\n",
       "    }\n",
       "</style>\n",
       "<table border=\"1\" class=\"dataframe\">\n",
       "  <thead>\n",
       "    <tr style=\"text-align: right;\">\n",
       "      <th></th>\n",
       "      <th>Timestamp</th>\n",
       "      <th>FIT101</th>\n",
       "      <th>AIT201</th>\n",
       "      <th>AIT203</th>\n",
       "      <th>DPIT301</th>\n",
       "      <th>LIT301</th>\n",
       "      <th>AIT402</th>\n",
       "      <th>AIT503</th>\n",
       "      <th>AIT504</th>\n",
       "      <th>Normal/Attack</th>\n",
       "    </tr>\n",
       "  </thead>\n",
       "  <tbody>\n",
       "    <tr>\n",
       "      <th>0</th>\n",
       "      <td>2015-12-28 10:00:00</td>\n",
       "      <td>2.427057</td>\n",
       "      <td>262.0161</td>\n",
       "      <td>328.6337</td>\n",
       "      <td>19.74838</td>\n",
       "      <td>956.1651</td>\n",
       "      <td>156.0882</td>\n",
       "      <td>264.5475</td>\n",
       "      <td>12.03538</td>\n",
       "      <td>Normal</td>\n",
       "    </tr>\n",
       "    <tr>\n",
       "      <th>1</th>\n",
       "      <td>2015-12-28 10:00:01</td>\n",
       "      <td>2.446274</td>\n",
       "      <td>262.0161</td>\n",
       "      <td>328.6337</td>\n",
       "      <td>19.74838</td>\n",
       "      <td>956.1651</td>\n",
       "      <td>156.0882</td>\n",
       "      <td>264.5475</td>\n",
       "      <td>12.03538</td>\n",
       "      <td>Normal</td>\n",
       "    </tr>\n",
       "    <tr>\n",
       "      <th>2</th>\n",
       "      <td>2015-12-28 10:00:02</td>\n",
       "      <td>2.489191</td>\n",
       "      <td>262.0161</td>\n",
       "      <td>328.6337</td>\n",
       "      <td>19.69076</td>\n",
       "      <td>956.4855</td>\n",
       "      <td>156.0882</td>\n",
       "      <td>264.5475</td>\n",
       "      <td>12.03538</td>\n",
       "      <td>Normal</td>\n",
       "    </tr>\n",
       "    <tr>\n",
       "      <th>3</th>\n",
       "      <td>2015-12-28 10:00:03</td>\n",
       "      <td>2.534350</td>\n",
       "      <td>262.0161</td>\n",
       "      <td>328.6337</td>\n",
       "      <td>19.69076</td>\n",
       "      <td>956.8060</td>\n",
       "      <td>156.0882</td>\n",
       "      <td>264.5475</td>\n",
       "      <td>12.03538</td>\n",
       "      <td>Normal</td>\n",
       "    </tr>\n",
       "    <tr>\n",
       "      <th>4</th>\n",
       "      <td>2015-12-28 10:00:04</td>\n",
       "      <td>2.569260</td>\n",
       "      <td>262.0161</td>\n",
       "      <td>328.6337</td>\n",
       "      <td>19.69076</td>\n",
       "      <td>957.0864</td>\n",
       "      <td>156.0882</td>\n",
       "      <td>264.5475</td>\n",
       "      <td>12.03538</td>\n",
       "      <td>Normal</td>\n",
       "    </tr>\n",
       "    <tr>\n",
       "      <th>...</th>\n",
       "      <td>...</td>\n",
       "      <td>...</td>\n",
       "      <td>...</td>\n",
       "      <td>...</td>\n",
       "      <td>...</td>\n",
       "      <td>...</td>\n",
       "      <td>...</td>\n",
       "      <td>...</td>\n",
       "      <td>...</td>\n",
       "      <td>...</td>\n",
       "    </tr>\n",
       "    <tr>\n",
       "      <th>449914</th>\n",
       "      <td>2016-02-01 14:59:55</td>\n",
       "      <td>2.559972</td>\n",
       "      <td>168.0979</td>\n",
       "      <td>301.9226</td>\n",
       "      <td>20.39823</td>\n",
       "      <td>974.5498</td>\n",
       "      <td>145.6037</td>\n",
       "      <td>257.1136</td>\n",
       "      <td>14.80390</td>\n",
       "      <td>Normal</td>\n",
       "    </tr>\n",
       "    <tr>\n",
       "      <th>449915</th>\n",
       "      <td>2016-02-01 14:59:56</td>\n",
       "      <td>2.549082</td>\n",
       "      <td>168.0979</td>\n",
       "      <td>301.9226</td>\n",
       "      <td>20.39823</td>\n",
       "      <td>974.5898</td>\n",
       "      <td>145.6037</td>\n",
       "      <td>257.1136</td>\n",
       "      <td>14.80390</td>\n",
       "      <td>Normal</td>\n",
       "    </tr>\n",
       "    <tr>\n",
       "      <th>449916</th>\n",
       "      <td>2016-02-01 14:59:57</td>\n",
       "      <td>2.531467</td>\n",
       "      <td>168.0979</td>\n",
       "      <td>301.9226</td>\n",
       "      <td>20.33101</td>\n",
       "      <td>974.2695</td>\n",
       "      <td>145.5524</td>\n",
       "      <td>257.1136</td>\n",
       "      <td>14.80390</td>\n",
       "      <td>Normal</td>\n",
       "    </tr>\n",
       "    <tr>\n",
       "      <th>449917</th>\n",
       "      <td>2016-02-01 14:59:58</td>\n",
       "      <td>2.521218</td>\n",
       "      <td>168.0979</td>\n",
       "      <td>301.9226</td>\n",
       "      <td>20.29579</td>\n",
       "      <td>974.2294</td>\n",
       "      <td>145.5524</td>\n",
       "      <td>257.1136</td>\n",
       "      <td>14.80390</td>\n",
       "      <td>Normal</td>\n",
       "    </tr>\n",
       "    <tr>\n",
       "      <th>449918</th>\n",
       "      <td>2016-02-01 14:59:59</td>\n",
       "      <td>2.501681</td>\n",
       "      <td>168.0979</td>\n",
       "      <td>301.9226</td>\n",
       "      <td>20.28619</td>\n",
       "      <td>974.4296</td>\n",
       "      <td>145.5524</td>\n",
       "      <td>257.1136</td>\n",
       "      <td>14.80390</td>\n",
       "      <td>Normal</td>\n",
       "    </tr>\n",
       "  </tbody>\n",
       "</table>\n",
       "<p>449919 rows × 10 columns</p>\n",
       "</div>"
      ],
      "text/plain": [
       "                 Timestamp    FIT101    AIT201    AIT203   DPIT301    LIT301  \\\n",
       "0      2015-12-28 10:00:00  2.427057  262.0161  328.6337  19.74838  956.1651   \n",
       "1      2015-12-28 10:00:01  2.446274  262.0161  328.6337  19.74838  956.1651   \n",
       "2      2015-12-28 10:00:02  2.489191  262.0161  328.6337  19.69076  956.4855   \n",
       "3      2015-12-28 10:00:03  2.534350  262.0161  328.6337  19.69076  956.8060   \n",
       "4      2015-12-28 10:00:04  2.569260  262.0161  328.6337  19.69076  957.0864   \n",
       "...                    ...       ...       ...       ...       ...       ...   \n",
       "449914 2016-02-01 14:59:55  2.559972  168.0979  301.9226  20.39823  974.5498   \n",
       "449915 2016-02-01 14:59:56  2.549082  168.0979  301.9226  20.39823  974.5898   \n",
       "449916 2016-02-01 14:59:57  2.531467  168.0979  301.9226  20.33101  974.2695   \n",
       "449917 2016-02-01 14:59:58  2.521218  168.0979  301.9226  20.29579  974.2294   \n",
       "449918 2016-02-01 14:59:59  2.501681  168.0979  301.9226  20.28619  974.4296   \n",
       "\n",
       "          AIT402    AIT503    AIT504 Normal/Attack  \n",
       "0       156.0882  264.5475  12.03538        Normal  \n",
       "1       156.0882  264.5475  12.03538        Normal  \n",
       "2       156.0882  264.5475  12.03538        Normal  \n",
       "3       156.0882  264.5475  12.03538        Normal  \n",
       "4       156.0882  264.5475  12.03538        Normal  \n",
       "...          ...       ...       ...           ...  \n",
       "449914  145.6037  257.1136  14.80390        Normal  \n",
       "449915  145.6037  257.1136  14.80390        Normal  \n",
       "449916  145.5524  257.1136  14.80390        Normal  \n",
       "449917  145.5524  257.1136  14.80390        Normal  \n",
       "449918  145.5524  257.1136  14.80390        Normal  \n",
       "\n",
       "[449919 rows x 10 columns]"
      ]
     },
     "execution_count": 3,
     "metadata": {},
     "output_type": "execute_result"
    }
   ],
   "source": [
    "df = pd.read_csv('../swat_dataset_preprocessed', parse_dates=[\" Timestamp\"]).iloc[:,1:]\n",
    "df"
   ]
  },
  {
   "cell_type": "code",
   "execution_count": 4,
   "metadata": {},
   "outputs": [],
   "source": [
    "label_encoder = LabelEncoder()\n",
    "encoded_labels = label_encoder.fit_transform(df['Normal/Attack'])"
   ]
  },
  {
   "cell_type": "code",
   "execution_count": 5,
   "metadata": {},
   "outputs": [
    {
     "data": {
      "text/plain": [
       "array(['Attack', 'Normal'], dtype=object)"
      ]
     },
     "execution_count": 5,
     "metadata": {},
     "output_type": "execute_result"
    }
   ],
   "source": [
    "label_encoder.classes_"
   ]
  },
  {
   "cell_type": "code",
   "execution_count": 6,
   "metadata": {},
   "outputs": [],
   "source": [
    "df['label'] = encoded_labels"
   ]
  },
  {
   "cell_type": "code",
   "execution_count": 7,
   "metadata": {},
   "outputs": [
    {
     "data": {
      "text/html": [
       "<div>\n",
       "<style scoped>\n",
       "    .dataframe tbody tr th:only-of-type {\n",
       "        vertical-align: middle;\n",
       "    }\n",
       "\n",
       "    .dataframe tbody tr th {\n",
       "        vertical-align: top;\n",
       "    }\n",
       "\n",
       "    .dataframe thead th {\n",
       "        text-align: right;\n",
       "    }\n",
       "</style>\n",
       "<table border=\"1\" class=\"dataframe\">\n",
       "  <thead>\n",
       "    <tr style=\"text-align: right;\">\n",
       "      <th></th>\n",
       "      <th>Timestamp</th>\n",
       "      <th>FIT101</th>\n",
       "      <th>AIT201</th>\n",
       "      <th>AIT203</th>\n",
       "      <th>DPIT301</th>\n",
       "      <th>LIT301</th>\n",
       "      <th>AIT402</th>\n",
       "      <th>AIT503</th>\n",
       "      <th>AIT504</th>\n",
       "      <th>label</th>\n",
       "    </tr>\n",
       "  </thead>\n",
       "  <tbody>\n",
       "    <tr>\n",
       "      <th>0</th>\n",
       "      <td>2015-12-28 10:00:00</td>\n",
       "      <td>2.427057</td>\n",
       "      <td>262.0161</td>\n",
       "      <td>328.6337</td>\n",
       "      <td>19.74838</td>\n",
       "      <td>956.1651</td>\n",
       "      <td>156.0882</td>\n",
       "      <td>264.5475</td>\n",
       "      <td>12.03538</td>\n",
       "      <td>1</td>\n",
       "    </tr>\n",
       "    <tr>\n",
       "      <th>1</th>\n",
       "      <td>2015-12-28 10:00:01</td>\n",
       "      <td>2.446274</td>\n",
       "      <td>262.0161</td>\n",
       "      <td>328.6337</td>\n",
       "      <td>19.74838</td>\n",
       "      <td>956.1651</td>\n",
       "      <td>156.0882</td>\n",
       "      <td>264.5475</td>\n",
       "      <td>12.03538</td>\n",
       "      <td>1</td>\n",
       "    </tr>\n",
       "    <tr>\n",
       "      <th>2</th>\n",
       "      <td>2015-12-28 10:00:02</td>\n",
       "      <td>2.489191</td>\n",
       "      <td>262.0161</td>\n",
       "      <td>328.6337</td>\n",
       "      <td>19.69076</td>\n",
       "      <td>956.4855</td>\n",
       "      <td>156.0882</td>\n",
       "      <td>264.5475</td>\n",
       "      <td>12.03538</td>\n",
       "      <td>1</td>\n",
       "    </tr>\n",
       "    <tr>\n",
       "      <th>3</th>\n",
       "      <td>2015-12-28 10:00:03</td>\n",
       "      <td>2.534350</td>\n",
       "      <td>262.0161</td>\n",
       "      <td>328.6337</td>\n",
       "      <td>19.69076</td>\n",
       "      <td>956.8060</td>\n",
       "      <td>156.0882</td>\n",
       "      <td>264.5475</td>\n",
       "      <td>12.03538</td>\n",
       "      <td>1</td>\n",
       "    </tr>\n",
       "    <tr>\n",
       "      <th>4</th>\n",
       "      <td>2015-12-28 10:00:04</td>\n",
       "      <td>2.569260</td>\n",
       "      <td>262.0161</td>\n",
       "      <td>328.6337</td>\n",
       "      <td>19.69076</td>\n",
       "      <td>957.0864</td>\n",
       "      <td>156.0882</td>\n",
       "      <td>264.5475</td>\n",
       "      <td>12.03538</td>\n",
       "      <td>1</td>\n",
       "    </tr>\n",
       "  </tbody>\n",
       "</table>\n",
       "</div>"
      ],
      "text/plain": [
       "            Timestamp    FIT101    AIT201    AIT203   DPIT301    LIT301  \\\n",
       "0 2015-12-28 10:00:00  2.427057  262.0161  328.6337  19.74838  956.1651   \n",
       "1 2015-12-28 10:00:01  2.446274  262.0161  328.6337  19.74838  956.1651   \n",
       "2 2015-12-28 10:00:02  2.489191  262.0161  328.6337  19.69076  956.4855   \n",
       "3 2015-12-28 10:00:03  2.534350  262.0161  328.6337  19.69076  956.8060   \n",
       "4 2015-12-28 10:00:04  2.569260  262.0161  328.6337  19.69076  957.0864   \n",
       "\n",
       "     AIT402    AIT503    AIT504  label  \n",
       "0  156.0882  264.5475  12.03538      1  \n",
       "1  156.0882  264.5475  12.03538      1  \n",
       "2  156.0882  264.5475  12.03538      1  \n",
       "3  156.0882  264.5475  12.03538      1  \n",
       "4  156.0882  264.5475  12.03538      1  "
      ]
     },
     "execution_count": 7,
     "metadata": {},
     "output_type": "execute_result"
    }
   ],
   "source": [
    "df = df.drop(['Normal/Attack'],axis=1)\n",
    "df.head()"
   ]
  },
  {
   "cell_type": "code",
   "execution_count": 8,
   "metadata": {},
   "outputs": [
    {
     "name": "stderr",
     "output_type": "stream",
     "text": [
      "100%|████████████████████████████████████████████████████████████████████████| 449919/449919 [01:28<00:00, 5062.48it/s]\n"
     ]
    }
   ],
   "source": [
    "rows = []\n",
    "\n",
    "for _, row in tqdm(df.iterrows(), total=df.shape[0]):\n",
    "    \n",
    "    row_data = dict(\n",
    "        day_of_week=row[\" Timestamp\"].dayofweek,\n",
    "        day_of_month=row[\" Timestamp\"].day,\n",
    "        week_of_year=row[\" Timestamp\"].week,\n",
    "        month=row[\" Timestamp\"].month,\n",
    "        label = row['label'],\n",
    "        FIT101 = row['FIT101'],\n",
    "        AIT201 = row[' AIT201'],\n",
    "        AIT203 = row['AIT203'],\n",
    "        DPIT301 = row['DPIT301'],\n",
    "        LIT301 = row['LIT301'],\n",
    "        AIT402 = row['AIT402'],\n",
    "        AIT503 = row['AIT503'],\n",
    "        AIT504 = row['AIT504'],\n",
    "    )\n",
    "    \n",
    "    rows.append(row_data)\n",
    "    \n",
    "features_df = pd.DataFrame(rows)   "
   ]
  },
  {
   "cell_type": "code",
   "execution_count": 9,
   "metadata": {},
   "outputs": [
    {
     "data": {
      "text/plain": [
       "(449919, 13)"
      ]
     },
     "execution_count": 9,
     "metadata": {},
     "output_type": "execute_result"
    }
   ],
   "source": [
    "features_df.shape"
   ]
  },
  {
   "cell_type": "code",
   "execution_count": 10,
   "metadata": {},
   "outputs": [
    {
     "data": {
      "text/html": [
       "<div>\n",
       "<style scoped>\n",
       "    .dataframe tbody tr th:only-of-type {\n",
       "        vertical-align: middle;\n",
       "    }\n",
       "\n",
       "    .dataframe tbody tr th {\n",
       "        vertical-align: top;\n",
       "    }\n",
       "\n",
       "    .dataframe thead th {\n",
       "        text-align: right;\n",
       "    }\n",
       "</style>\n",
       "<table border=\"1\" class=\"dataframe\">\n",
       "  <thead>\n",
       "    <tr style=\"text-align: right;\">\n",
       "      <th></th>\n",
       "      <th>day_of_week</th>\n",
       "      <th>day_of_month</th>\n",
       "      <th>week_of_year</th>\n",
       "      <th>month</th>\n",
       "      <th>label</th>\n",
       "      <th>FIT101</th>\n",
       "      <th>AIT201</th>\n",
       "      <th>AIT203</th>\n",
       "      <th>DPIT301</th>\n",
       "      <th>LIT301</th>\n",
       "      <th>AIT402</th>\n",
       "      <th>AIT503</th>\n",
       "      <th>AIT504</th>\n",
       "    </tr>\n",
       "  </thead>\n",
       "  <tbody>\n",
       "    <tr>\n",
       "      <th>0</th>\n",
       "      <td>0</td>\n",
       "      <td>28</td>\n",
       "      <td>53</td>\n",
       "      <td>12</td>\n",
       "      <td>1</td>\n",
       "      <td>2.427057</td>\n",
       "      <td>262.0161</td>\n",
       "      <td>328.6337</td>\n",
       "      <td>19.74838</td>\n",
       "      <td>956.1651</td>\n",
       "      <td>156.0882</td>\n",
       "      <td>264.5475</td>\n",
       "      <td>12.03538</td>\n",
       "    </tr>\n",
       "    <tr>\n",
       "      <th>1</th>\n",
       "      <td>0</td>\n",
       "      <td>28</td>\n",
       "      <td>53</td>\n",
       "      <td>12</td>\n",
       "      <td>1</td>\n",
       "      <td>2.446274</td>\n",
       "      <td>262.0161</td>\n",
       "      <td>328.6337</td>\n",
       "      <td>19.74838</td>\n",
       "      <td>956.1651</td>\n",
       "      <td>156.0882</td>\n",
       "      <td>264.5475</td>\n",
       "      <td>12.03538</td>\n",
       "    </tr>\n",
       "    <tr>\n",
       "      <th>2</th>\n",
       "      <td>0</td>\n",
       "      <td>28</td>\n",
       "      <td>53</td>\n",
       "      <td>12</td>\n",
       "      <td>1</td>\n",
       "      <td>2.489191</td>\n",
       "      <td>262.0161</td>\n",
       "      <td>328.6337</td>\n",
       "      <td>19.69076</td>\n",
       "      <td>956.4855</td>\n",
       "      <td>156.0882</td>\n",
       "      <td>264.5475</td>\n",
       "      <td>12.03538</td>\n",
       "    </tr>\n",
       "    <tr>\n",
       "      <th>3</th>\n",
       "      <td>0</td>\n",
       "      <td>28</td>\n",
       "      <td>53</td>\n",
       "      <td>12</td>\n",
       "      <td>1</td>\n",
       "      <td>2.534350</td>\n",
       "      <td>262.0161</td>\n",
       "      <td>328.6337</td>\n",
       "      <td>19.69076</td>\n",
       "      <td>956.8060</td>\n",
       "      <td>156.0882</td>\n",
       "      <td>264.5475</td>\n",
       "      <td>12.03538</td>\n",
       "    </tr>\n",
       "    <tr>\n",
       "      <th>4</th>\n",
       "      <td>0</td>\n",
       "      <td>28</td>\n",
       "      <td>53</td>\n",
       "      <td>12</td>\n",
       "      <td>1</td>\n",
       "      <td>2.569260</td>\n",
       "      <td>262.0161</td>\n",
       "      <td>328.6337</td>\n",
       "      <td>19.69076</td>\n",
       "      <td>957.0864</td>\n",
       "      <td>156.0882</td>\n",
       "      <td>264.5475</td>\n",
       "      <td>12.03538</td>\n",
       "    </tr>\n",
       "  </tbody>\n",
       "</table>\n",
       "</div>"
      ],
      "text/plain": [
       "   day_of_week  day_of_month  week_of_year  month  label    FIT101    AIT201  \\\n",
       "0            0            28            53     12      1  2.427057  262.0161   \n",
       "1            0            28            53     12      1  2.446274  262.0161   \n",
       "2            0            28            53     12      1  2.489191  262.0161   \n",
       "3            0            28            53     12      1  2.534350  262.0161   \n",
       "4            0            28            53     12      1  2.569260  262.0161   \n",
       "\n",
       "     AIT203   DPIT301    LIT301    AIT402    AIT503    AIT504  \n",
       "0  328.6337  19.74838  956.1651  156.0882  264.5475  12.03538  \n",
       "1  328.6337  19.74838  956.1651  156.0882  264.5475  12.03538  \n",
       "2  328.6337  19.69076  956.4855  156.0882  264.5475  12.03538  \n",
       "3  328.6337  19.69076  956.8060  156.0882  264.5475  12.03538  \n",
       "4  328.6337  19.69076  957.0864  156.0882  264.5475  12.03538  "
      ]
     },
     "execution_count": 10,
     "metadata": {},
     "output_type": "execute_result"
    }
   ],
   "source": [
    "features_df.head()"
   ]
  },
  {
   "cell_type": "code",
   "execution_count": 11,
   "metadata": {},
   "outputs": [],
   "source": [
    "train_size = int(len(features_df) * 0.8)\n",
    "test_size = len(features_df) - train_size\n",
    "train, test = features_df.iloc[0:train_size], features_df.iloc[train_size:len(features_df)]"
   ]
  },
  {
   "cell_type": "code",
   "execution_count": 12,
   "metadata": {},
   "outputs": [
    {
     "data": {
      "text/plain": [
       "(359935, 13)"
      ]
     },
     "execution_count": 12,
     "metadata": {},
     "output_type": "execute_result"
    }
   ],
   "source": [
    "train.shape"
   ]
  },
  {
   "cell_type": "markdown",
   "metadata": {},
   "source": [
    "#### Creating train and test datasets"
   ]
  },
  {
   "cell_type": "code",
   "execution_count": 13,
   "metadata": {},
   "outputs": [],
   "source": [
    "def create_dataset(X, y, time_steps=1):\n",
    "    Xs, ys = [], []\n",
    "    for i in range(len(X) - time_steps):\n",
    "        v = X.iloc[i:(i + time_steps)].values\n",
    "        Xs.append(v)\n",
    "        ys.append(y.iloc[i + time_steps])\n",
    "    return np.array(Xs), np.array(ys)\n",
    "    "
   ]
  },
  {
   "cell_type": "code",
   "execution_count": 14,
   "metadata": {},
   "outputs": [
    {
     "name": "stdout",
     "output_type": "stream",
     "text": [
      "(359910, 25, 13) (359910,)\n"
     ]
    }
   ],
   "source": [
    "time_steps = 25\n",
    "\n",
    "X_train, y_train = create_dataset(train, train.label, time_steps)\n",
    "X_test, y_test = create_dataset(test, test.label, time_steps)\n",
    "print(X_train.shape, y_train.shape)"
   ]
  },
  {
   "cell_type": "code",
   "execution_count": 15,
   "metadata": {},
   "outputs": [
    {
     "name": "stdout",
     "output_type": "stream",
     "text": [
      "(359910, 25, 13, 1)\n",
      "(89959, 25, 13, 1)\n"
     ]
    }
   ],
   "source": [
    "# We have to redimension the arrays for the Conv2D digestion benefit\n",
    "\n",
    "data_train_wide = X_train.reshape((X_train.shape[0], X_train.shape[1], X_train.shape[2], 1))\n",
    "data_test_wide = X_test.reshape((X_test.shape[0], X_test.shape[1], X_test.shape[2], 1))\n",
    "\n",
    "print(data_train_wide.shape)\n",
    "print(data_test_wide.shape)"
   ]
  },
  {
   "cell_type": "markdown",
   "metadata": {},
   "source": [
    "#### F1 Score"
   ]
  },
  {
   "cell_type": "code",
   "execution_count": 16,
   "metadata": {},
   "outputs": [],
   "source": [
    "def get_f1(y_true, y_pred):\n",
    "    true_positives = K.sum(K.round(K.clip(y_true * y_pred, 0, 1)))\n",
    "    possible_positives = K.sum(K.round(K.clip(y_true, 0, 1)))\n",
    "    predicted_positives = K.sum(K.round(K.clip(y_pred, 0, 1)))\n",
    "    precision = true_positives / (predicted_positives + K.epsilon())\n",
    "    recall = true_positives / (possible_positives + K.epsilon())\n",
    "    f1_val = 2*(precision*recall)/(precision+recall+K.epsilon())\n",
    "    return f1_val"
   ]
  },
  {
   "cell_type": "markdown",
   "metadata": {},
   "source": [
    "#### Conv2D"
   ]
  },
  {
   "cell_type": "code",
   "execution_count": 17,
   "metadata": {},
   "outputs": [
    {
     "name": "stdout",
     "output_type": "stream",
     "text": [
      "WARNING:tensorflow:From D:\\ProgramData\\Anaconda3\\lib\\site-packages\\tensorflow\\python\\ops\\init_ops.py:1251: calling VarianceScaling.__init__ (from tensorflow.python.ops.init_ops) with dtype is deprecated and will be removed in a future version.\n",
      "Instructions for updating:\n",
      "Call initializer instance with the dtype argument instead of passing it to the constructor\n",
      "WARNING:tensorflow:From D:\\ProgramData\\Anaconda3\\lib\\site-packages\\tensorflow\\python\\ops\\nn_impl.py:180: add_dispatch_support.<locals>.wrapper (from tensorflow.python.ops.array_ops) is deprecated and will be removed in a future version.\n",
      "Instructions for updating:\n",
      "Use tf.where in 2.0, which has the same broadcast rule as np.where\n",
      "Model: \"sequential\"\n",
      "_________________________________________________________________\n",
      "Layer (type)                 Output Shape              Param #   \n",
      "=================================================================\n",
      "conv2d (Conv2D)              (None, 21, 9, 64)         1664      \n",
      "_________________________________________________________________\n",
      "flatten (Flatten)            (None, 12096)             0         \n",
      "_________________________________________________________________\n",
      "dense (Dense)                (None, 256)               3096832   \n",
      "_________________________________________________________________\n",
      "dense_1 (Dense)              (None, 1)                 257       \n",
      "=================================================================\n",
      "Total params: 3,098,753\n",
      "Trainable params: 3,098,753\n",
      "Non-trainable params: 0\n",
      "_________________________________________________________________\n",
      "None\n"
     ]
    }
   ],
   "source": [
    "n_filters = 64\n",
    "fsize = 5  \n",
    "window_size = 25   # Number of time steps in one period\n",
    "n_features = 13 # Number of cols in one sample (one table)\n",
    "\n",
    "\n",
    "MyModel = Sequential()\n",
    "MyModel.add(layers.Conv2D(n_filters, fsize, activation='relu', input_shape=(window_size, n_features, 1)))\n",
    "MyModel.add(layers.Flatten())\n",
    "MyModel.add(layers.Dense(256, activation='relu'))\n",
    "\n",
    "\n",
    "MyModel.add(layers.Dense(1, activation='sigmoid'))\n",
    "\n",
    "MyModel.compile(optimizer=optimizers.Adam(lr=1e-4), \n",
    "              loss='binary_crossentropy', \n",
    "              metrics=[get_f1])\n",
    "\n",
    "\n",
    "print(MyModel.summary())"
   ]
  },
  {
   "cell_type": "code",
   "execution_count": 18,
   "metadata": {},
   "outputs": [
    {
     "name": "stdout",
     "output_type": "stream",
     "text": [
      "Train on 287928 samples, validate on 71982 samples\n",
      "Epoch 1/5\n",
      "287928/287928 [==============================] - 280s 974us/sample - loss: 0.2565 - get_f1: 0.9873 - val_loss: 7.5884 - val_get_f1: 0.4473\n",
      "Epoch 2/5\n",
      "287928/287928 [==============================] - 312s 1ms/sample - loss: 0.0051 - get_f1: 0.9995 - val_loss: 7.1772 - val_get_f1: 0.4476\n",
      "Epoch 3/5\n",
      "287928/287928 [==============================] - 272s 945us/sample - loss: 0.0038 - get_f1: 0.9996 - val_loss: 7.6228 - val_get_f1: 0.4478\n",
      "Epoch 4/5\n",
      "287928/287928 [==============================] - 272s 944us/sample - loss: 0.0032 - get_f1: 0.9997 - val_loss: 6.3184 - val_get_f1: 0.4478\n",
      "Epoch 5/5\n",
      "287928/287928 [==============================] - 272s 943us/sample - loss: 0.0027 - get_f1: 0.9998 - val_loss: 8.7100 - val_get_f1: 0.4478\n"
     ]
    }
   ],
   "source": [
    "history = MyModel.fit(data_train_wide, y_train, \n",
    "                      validation_split=0.2, \n",
    "                      epochs = 5, \n",
    "                      batch_size = 16)"
   ]
  },
  {
   "cell_type": "code",
   "execution_count": 22,
   "metadata": {},
   "outputs": [
    {
     "data": {
      "text/plain": [
       "(89959, 1)"
      ]
     },
     "execution_count": 22,
     "metadata": {},
     "output_type": "execute_result"
    }
   ],
   "source": [
    "# Final Predict\n",
    "# NOTE final_predictions is a list of probabilities\n",
    "\n",
    "final_predictions = MyModel.predict(data_test_wide)\n",
    "final_predictions.shape"
   ]
  },
  {
   "cell_type": "code",
   "execution_count": 23,
   "metadata": {},
   "outputs": [
    {
     "data": {
      "text/plain": [
       "(89959, 1)"
      ]
     },
     "execution_count": 23,
     "metadata": {},
     "output_type": "execute_result"
    }
   ],
   "source": [
    "Preds = final_predictions.copy()\n",
    "#print(len(Preds))\n",
    "#print(Preds)\n",
    "Preds[ np.where( Preds >= 0.5 ) ] = 1\n",
    "Preds[ np.where( Preds < 0.5 ) ] = 0\n",
    "\n",
    "Preds.shape"
   ]
  },
  {
   "cell_type": "code",
   "execution_count": 24,
   "metadata": {},
   "outputs": [
    {
     "name": "stdout",
     "output_type": "stream",
     "text": [
      "TN:  1566\n",
      "FP:  3138\n",
      "FN:  34398\n",
      "TP:  50857\n",
      "0.5965280628702129 0.9418835077321974\n"
     ]
    }
   ],
   "source": [
    "# Confusion matrix\n",
    "\n",
    "conf_mx = metrics.confusion_matrix(y_test, Preds)\n",
    "\n",
    "TN = conf_mx[0,0]\n",
    "FP = conf_mx[0,1]\n",
    "FN = conf_mx[1,0]\n",
    "TP = conf_mx[1,1]\n",
    "\n",
    "print ('TN: ', TN)\n",
    "print ('FP: ', FP)\n",
    "print ('FN: ', FN)\n",
    "print ('TP: ', TP)\n",
    "\n",
    "recall = TP/(TP+FN)\n",
    "precision = TP/(TP+FP)\n",
    "\n",
    "print (recall, precision)"
   ]
  },
  {
   "cell_type": "markdown",
   "metadata": {},
   "source": [
    "#### LSTM"
   ]
  },
  {
   "cell_type": "code",
   "execution_count": 32,
   "metadata": {},
   "outputs": [
    {
     "name": "stdout",
     "output_type": "stream",
     "text": [
      "Model: \"sequential_7\"\n",
      "_________________________________________________________________\n",
      "Layer (type)                 Output Shape              Param #   \n",
      "=================================================================\n",
      "lstm_6 (LSTM)                (None, 256)               276480    \n",
      "_________________________________________________________________\n",
      "dense_3 (Dense)              (None, 64)                16448     \n",
      "_________________________________________________________________\n",
      "dropout (Dropout)            (None, 64)                0         \n",
      "_________________________________________________________________\n",
      "batch_normalization (BatchNo (None, 64)                256       \n",
      "_________________________________________________________________\n",
      "dense_4 (Dense)              (None, 1)                 65        \n",
      "=================================================================\n",
      "Total params: 293,249\n",
      "Trainable params: 293,121\n",
      "Non-trainable params: 128\n",
      "_________________________________________________________________\n",
      "None\n"
     ]
    }
   ],
   "source": [
    "from tensorflow.keras.layers import LSTM, Dense, Dropout, BatchNormalization\n",
    "\n",
    "model2 = Sequential()\n",
    "model2.add(LSTM(256, input_shape=(window_size, n_features)))\n",
    "model2.add(Dense(64))\n",
    "model2.add(Dropout(0.25))\n",
    "model2.add(BatchNormalization())\n",
    "model2.add(Dense(1))\n",
    "\n",
    "model2.compile(optimizer=optimizers.Adam(lr=1e-4), \n",
    "              loss='binary_crossentropy', \n",
    "              metrics=[get_f1])\n",
    "\n",
    "\n",
    "print(model2.summary())"
   ]
  },
  {
   "cell_type": "code",
   "execution_count": 34,
   "metadata": {},
   "outputs": [
    {
     "name": "stdout",
     "output_type": "stream",
     "text": [
      "Train on 287928 samples, validate on 71982 samples\n",
      "Epoch 1/5\n",
      "287928/287928 [==============================] - 1297s 5ms/sample - loss: 2.4600 - get_f1: 0.8432 - val_loss: 0.2062 - val_get_f1: 0.9930\n",
      "Epoch 2/5\n",
      "287928/287928 [==============================] - 1340s 5ms/sample - loss: 1.0397 - get_f1: 0.9509 - val_loss: 0.0972 - val_get_f1: 0.9966\n",
      "Epoch 3/5\n",
      "287928/287928 [==============================] - 1388s 5ms/sample - loss: 0.9122 - get_f1: 0.9621 - val_loss: 0.0993 - val_get_f1: 0.9966\n",
      "Epoch 4/5\n",
      "287928/287928 [==============================] - 2524s 9ms/sample - loss: 1.1879 - get_f1: 0.9514 - val_loss: 0.2134 - val_get_f1: 0.9926\n",
      "Epoch 5/5\n",
      "287928/287928 [==============================] - 2189s 8ms/sample - loss: 0.9825 - get_f1: 0.9601 - val_loss: 0.2415 - val_get_f1: 0.9917\n"
     ]
    }
   ],
   "source": [
    "history = model2.fit(X_train, y_train, \n",
    "                      validation_split=0.2, \n",
    "                      epochs = 5, \n",
    "                      batch_size = 16)"
   ]
  },
  {
   "cell_type": "code",
   "execution_count": 35,
   "metadata": {},
   "outputs": [
    {
     "data": {
      "text/plain": [
       "(89959, 1)"
      ]
     },
     "execution_count": 35,
     "metadata": {},
     "output_type": "execute_result"
    }
   ],
   "source": [
    "final_predictions = model2.predict(X_test)\n",
    "final_predictions.shape"
   ]
  },
  {
   "cell_type": "code",
   "execution_count": 36,
   "metadata": {},
   "outputs": [
    {
     "data": {
      "text/plain": [
       "(89959, 1)"
      ]
     },
     "execution_count": 36,
     "metadata": {},
     "output_type": "execute_result"
    }
   ],
   "source": [
    "Preds = final_predictions.copy()\n",
    "#print(len(Preds))\n",
    "#print(Preds)\n",
    "Preds[ np.where( Preds >= 0.5 ) ] = 1\n",
    "Preds[ np.where( Preds < 0.5 ) ] = 0\n",
    "\n",
    "Preds.shape"
   ]
  },
  {
   "cell_type": "code",
   "execution_count": 37,
   "metadata": {},
   "outputs": [
    {
     "name": "stdout",
     "output_type": "stream",
     "text": [
      "TN:  1013\n",
      "FP:  3691\n",
      "FN:  975\n",
      "TP:  84280\n",
      "0.9885637206028972 0.958042991440361\n"
     ]
    }
   ],
   "source": [
    "# Confusion matrix\n",
    "\n",
    "conf_mx = metrics.confusion_matrix(y_test, Preds)\n",
    "\n",
    "TN = conf_mx[0,0]\n",
    "FP = conf_mx[0,1]\n",
    "FN = conf_mx[1,0]\n",
    "TP = conf_mx[1,1]\n",
    "\n",
    "print ('TN: ', TN)\n",
    "print ('FP: ', FP)\n",
    "print ('FN: ', FN)\n",
    "print ('TP: ', TP)\n",
    "\n",
    "recall = TP/(TP+FN)\n",
    "precision = TP/(TP+FP)\n",
    "\n",
    "print (recall, precision)"
   ]
  },
  {
   "cell_type": "code",
   "execution_count": null,
   "metadata": {},
   "outputs": [],
   "source": []
  }
 ],
 "metadata": {
  "kernelspec": {
   "display_name": "Python 3",
   "language": "python",
   "name": "python3"
  },
  "language_info": {
   "codemirror_mode": {
    "name": "ipython",
    "version": 3
   },
   "file_extension": ".py",
   "mimetype": "text/x-python",
   "name": "python",
   "nbconvert_exporter": "python",
   "pygments_lexer": "ipython3",
   "version": "3.7.6"
  }
 },
 "nbformat": 4,
 "nbformat_minor": 4
}
